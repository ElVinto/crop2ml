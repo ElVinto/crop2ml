{
 "cells": [
  {
   "cell_type": "markdown",
   "metadata": {},
   "source": [
    "# Automatic generation of Notebook using PyCropML\n",
    "    This notebook implements a crop model."
   ]
  },
  {
   "cell_type": "markdown",
   "metadata": {},
   "source": [
    "### Domain Class SnowAuxiliary"
   ]
  },
  {
   "cell_type": "code",
   "execution_count": null,
   "metadata": {},
   "outputs": [],
   "source": [
    "#include \"SnowAuxiliary.h\"\n",
    "\n",
    "SnowAuxiliary::SnowAuxiliary() { }\n",
    "\n",
    "int SnowAuxiliary::getjul() {return this-> jul; }\n",
    "float SnowAuxiliary::gettmin() {return this-> tmin; }\n",
    "float SnowAuxiliary::gettmax() {return this-> tmax; }\n",
    "float SnowAuxiliary::getprecip() {return this-> precip; }\n",
    "float SnowAuxiliary::gettavg() {return this-> tavg; }\n",
    "\n",
    "void SnowAuxiliary::setjul(int _jul) { this->jul = _jul; }\n",
    "void SnowAuxiliary::settmin(float _tmin) { this->tmin = _tmin; }\n",
    "void SnowAuxiliary::settmax(float _tmax) { this->tmax = _tmax; }\n",
    "void SnowAuxiliary::setprecip(float _precip) { this->precip = _precip; }\n",
    "void SnowAuxiliary::settavg(float _tavg) { this->tavg = _tavg; }"
   ]
  },
  {
   "cell_type": "markdown",
   "metadata": {},
   "source": [
    "### Domain Class SnowRate"
   ]
  },
  {
   "cell_type": "code",
   "execution_count": null,
   "metadata": {},
   "outputs": [],
   "source": [
    "#include \"SnowRate.h\"\n",
    "SnowRate::SnowRate() { }"
   ]
  },
  {
   "cell_type": "markdown",
   "metadata": {},
   "source": [
    "### Domain Class SnowState"
   ]
  },
  {
   "cell_type": "code",
   "execution_count": null,
   "metadata": {},
   "outputs": [],
   "source": [
    "#include \"SnowState.h\"\n",
    "SnowState::SnowState() { }\n",
    "\n",
    "float SnowState::gettmaxrec() {return this-> tmaxrec; }\n",
    "float SnowState::getps() {return this-> ps; }\n",
    "float SnowState::getMrf() {return this-> Mrf; }\n",
    "float SnowState::getSwet() {return this-> Swet; }\n",
    "float SnowState::getSnowmelt() {return this-> Snowmelt; }\n",
    "float SnowState::getSnowaccu() {return this-> Snowaccu; }\n",
    "float SnowState::getSdry() {return this-> Sdry; }\n",
    "float SnowState::getSdepth() {return this-> Sdepth; }\n",
    "float SnowState::gettminrec() {return this-> tminrec; }\n",
    "float SnowState::getM() {return this-> M; }\n",
    "float SnowState::getpreciprec() {return this-> preciprec; }\n",
    "float SnowState::getSdepth_cm() {return this-> Sdepth_cm; }\n",
    "\n",
    "void SnowState::settmaxrec(float _tmaxrec) { this->tmaxrec = _tmaxrec; }\n",
    "void SnowState::setps(float _ps) { this->ps = _ps; }\n",
    "void SnowState::setMrf(float _Mrf) { this->Mrf = _Mrf; }\n",
    "void SnowState::setSwet(float _Swet) { this->Swet = _Swet; }\n",
    "void SnowState::setSnowmelt(float _Snowmelt) { this->Snowmelt = _Snowmelt; }\n",
    "void SnowState::setSnowaccu(float _Snowaccu) { this->Snowaccu = _Snowaccu; }\n",
    "void SnowState::setSdry(float _Sdry) { this->Sdry = _Sdry; }\n",
    "void SnowState::setSdepth(float _Sdepth) { this->Sdepth = _Sdepth; }\n",
    "void SnowState::settminrec(float _tminrec) { this->tminrec = _tminrec; }\n",
    "void SnowState::setM(float _M) { this->M = _M; }\n",
    "void SnowState::setpreciprec(float _preciprec) { this->preciprec = _preciprec; }\n",
    "void SnowState::setSdepth_cm(float _Sdepth_cm) { this->Sdepth_cm = _Sdepth_cm; }"
   ]
  },
  {
   "cell_type": "markdown",
   "metadata": {},
   "source": [
    "### Model Refreezing"
   ]
  },
  {
   "cell_type": "code",
   "execution_count": null,
   "metadata": {},
   "outputs": [],
   "source": [
    "#define _USE_MATH_DEFINES\n",
    "#include <cmath>\n",
    "#include <iostream>\n",
    "# include<vector>\n",
    "# include<string>\n",
    "# include<numeric>\n",
    "# include<algorithm>\n",
    "# include<array>\n",
    "#include <map>\n",
    "# include <tuple>\n",
    "#include \"Refreezing.h\"\n",
    "using namespace std;\n",
    "\n",
    "Refreezing::Refreezing() { }\n",
    "float Refreezing::getP_Tmf() {return this-> P_Tmf; }\n",
    "float Refreezing::getP_SWrf() {return this-> P_SWrf; }\n",
    "void Refreezing::setP_Tmf(float _P_Tmf) { this->P_Tmf = _P_Tmf; }\n",
    "void Refreezing::setP_SWrf(float _P_SWrf) { this->P_SWrf = _P_SWrf; }\n",
    "void Refreezing::Calculate_Model(SnowState& s, SnowState& s1, SnowRate& r, SnowAuxiliary& a)\n",
    "{\n",
    "    //- Name: Refreezing -Version: 1.0, -Time step: 1\n",
    "    //- Description:\n",
    "    //            * Title: snowfall accumulation  calculation\n",
    "    //            * Author: STICS\n",
    "    //            * Reference: -\n",
    "    //            * Institution: INRA\n",
    "    //            * Abstract: -\n",
    "    //- inputs:\n",
    "    //            * name: tavg\n",
    "    //                          ** description : average temperature\n",
    "    //                          ** inputtype : variable\n",
    "    //                          ** variablecategory : auxiliary\n",
    "    //                          ** datatype : DOUBLE\n",
    "    //                          ** default : 0.0\n",
    "    //                          ** min : 0.0\n",
    "    //                          ** max : 100.0\n",
    "    //                          ** unit : °C\n",
    "    //                          ** uri : \n",
    "    //            * name: P_Tmf\n",
    "    //                          ** description : threshold temperature for snow melting \n",
    "    //                          ** inputtype : parameter\n",
    "    //                          ** parametercategory : constant\n",
    "    //                          ** datatype : DOUBLE\n",
    "    //                          ** default : 0.0\n",
    "    //                          ** min : 0.0\n",
    "    //                          ** max : 5000.0\n",
    "    //                          ** unit : °C\n",
    "    //                          ** uri : \n",
    "    //            * name: P_SWrf\n",
    "    //                          ** description : degree-day temperature index for refreezing\n",
    "    //                          ** inputtype : parameter\n",
    "    //                          ** parametercategory : constant\n",
    "    //                          ** datatype : DOUBLE\n",
    "    //                          ** default : 0.0\n",
    "    //                          ** min : 0.0\n",
    "    //                          ** max : 5000.0\n",
    "    //                          ** unit : mm °C-1 d-1\n",
    "    //                          ** uri : \n",
    "    //- outputs:\n",
    "    //            * name: Mrf\n",
    "    //                          ** description : liquid water in the snow cover in the process of refreezing\n",
    "    //                          ** variablecategory : state\n",
    "    //                          ** datatype : DOUBLE\n",
    "    //                          ** min : 0.0\n",
    "    //                          ** max : 500.0\n",
    "    //                          ** unit : mm\n",
    "    //                          ** uri : \n",
    "    float tavg = a.gettavg();\n",
    "    float Mrf;\n",
    "    Mrf = 0.0f;\n",
    "    if (tavg < P_Tmf)\n",
    "    {\n",
    "        Mrf = P_SWrf * (P_Tmf - tavg);\n",
    "    }\n",
    "    s.setMrf(Mrf);\n",
    "}"
   ]
  },
  {
   "cell_type": "code",
   "execution_count": null,
   "metadata": {},
   "outputs": [],
   "source": [
    "class Test\n",
    "{\n",
    "    SnowState s = new SnowState();\n",
    "    SnowState s1 = new SnowState();\n",
    "    SnowRate r = new SnowRate();\n",
    "    SnowAuxiliary a = new SnowAuxiliary();\n",
    "    Refreezing mod = new Refreezing();\n",
    "    //check snow model);\n",
    "    //test_snow1\n",
    "\n",
    "    public void test_snow1()\n",
    "    {\n",
    "        mod.P_Tmf = 0.5D;\n",
    "        mod.P_SWrf = 0.01D;\n",
    "        a.tavg = 0.279D;\n",
    "        mod.Calculate_refreezing(s,s1, r, a);\n",
    "        //Mrf: 45.6;\n",
    "        Console.WriteLine(\"Mrf estimated :\");\n",
    "        Console.WriteLine(s.Mrf);\n",
    "    }\n",
    "}\n",
    "Test t = new Test();\n",
    "t.test_snow1();\n"
   ]
  }
 ],
 "metadata": {},
 "nbformat": 4,
 "nbformat_minor": 2
}
