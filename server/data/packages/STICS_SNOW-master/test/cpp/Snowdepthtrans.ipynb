{
 "cells": [
  {
   "cell_type": "markdown",
   "metadata": {},
   "source": [
    "# Automatic generation of Notebook using PyCropML\n",
    "    This notebook implements a crop model."
   ]
  },
  {
   "cell_type": "markdown",
   "metadata": {},
   "source": [
    "### Domain Class SnowAuxiliary"
   ]
  },
  {
   "cell_type": "code",
   "execution_count": null,
   "metadata": {},
   "outputs": [],
   "source": [
    "#include \"SnowAuxiliary.h\"\n",
    "\n",
    "SnowAuxiliary::SnowAuxiliary() { }\n",
    "\n",
    "int SnowAuxiliary::getjul() {return this-> jul; }\n",
    "float SnowAuxiliary::gettmin() {return this-> tmin; }\n",
    "float SnowAuxiliary::gettmax() {return this-> tmax; }\n",
    "float SnowAuxiliary::getprecip() {return this-> precip; }\n",
    "float SnowAuxiliary::gettavg() {return this-> tavg; }\n",
    "\n",
    "void SnowAuxiliary::setjul(int _jul) { this->jul = _jul; }\n",
    "void SnowAuxiliary::settmin(float _tmin) { this->tmin = _tmin; }\n",
    "void SnowAuxiliary::settmax(float _tmax) { this->tmax = _tmax; }\n",
    "void SnowAuxiliary::setprecip(float _precip) { this->precip = _precip; }\n",
    "void SnowAuxiliary::settavg(float _tavg) { this->tavg = _tavg; }"
   ]
  },
  {
   "cell_type": "markdown",
   "metadata": {},
   "source": [
    "### Domain Class SnowRate"
   ]
  },
  {
   "cell_type": "code",
   "execution_count": null,
   "metadata": {},
   "outputs": [],
   "source": [
    "#include \"SnowRate.h\"\n",
    "SnowRate::SnowRate() { }"
   ]
  },
  {
   "cell_type": "markdown",
   "metadata": {},
   "source": [
    "### Domain Class SnowState"
   ]
  },
  {
   "cell_type": "code",
   "execution_count": null,
   "metadata": {},
   "outputs": [],
   "source": [
    "#include \"SnowState.h\"\n",
    "SnowState::SnowState() { }\n",
    "\n",
    "float SnowState::gettmaxrec() {return this-> tmaxrec; }\n",
    "float SnowState::getps() {return this-> ps; }\n",
    "float SnowState::getMrf() {return this-> Mrf; }\n",
    "float SnowState::getSwet() {return this-> Swet; }\n",
    "float SnowState::getSnowmelt() {return this-> Snowmelt; }\n",
    "float SnowState::getSnowaccu() {return this-> Snowaccu; }\n",
    "float SnowState::getSdry() {return this-> Sdry; }\n",
    "float SnowState::getSdepth() {return this-> Sdepth; }\n",
    "float SnowState::gettminrec() {return this-> tminrec; }\n",
    "float SnowState::getM() {return this-> M; }\n",
    "float SnowState::getpreciprec() {return this-> preciprec; }\n",
    "float SnowState::getSdepth_cm() {return this-> Sdepth_cm; }\n",
    "\n",
    "void SnowState::settmaxrec(float _tmaxrec) { this->tmaxrec = _tmaxrec; }\n",
    "void SnowState::setps(float _ps) { this->ps = _ps; }\n",
    "void SnowState::setMrf(float _Mrf) { this->Mrf = _Mrf; }\n",
    "void SnowState::setSwet(float _Swet) { this->Swet = _Swet; }\n",
    "void SnowState::setSnowmelt(float _Snowmelt) { this->Snowmelt = _Snowmelt; }\n",
    "void SnowState::setSnowaccu(float _Snowaccu) { this->Snowaccu = _Snowaccu; }\n",
    "void SnowState::setSdry(float _Sdry) { this->Sdry = _Sdry; }\n",
    "void SnowState::setSdepth(float _Sdepth) { this->Sdepth = _Sdepth; }\n",
    "void SnowState::settminrec(float _tminrec) { this->tminrec = _tminrec; }\n",
    "void SnowState::setM(float _M) { this->M = _M; }\n",
    "void SnowState::setpreciprec(float _preciprec) { this->preciprec = _preciprec; }\n",
    "void SnowState::setSdepth_cm(float _Sdepth_cm) { this->Sdepth_cm = _Sdepth_cm; }"
   ]
  },
  {
   "cell_type": "markdown",
   "metadata": {},
   "source": [
    "### Model Snowdepthtrans"
   ]
  },
  {
   "cell_type": "code",
   "execution_count": null,
   "metadata": {},
   "outputs": [],
   "source": [
    "#define _USE_MATH_DEFINES\n",
    "#include <cmath>\n",
    "#include <iostream>\n",
    "# include<vector>\n",
    "# include<string>\n",
    "# include<numeric>\n",
    "# include<algorithm>\n",
    "# include<array>\n",
    "#include <map>\n",
    "# include <tuple>\n",
    "#include \"Snowdepthtrans.h\"\n",
    "using namespace std;\n",
    "\n",
    "Snowdepthtrans::Snowdepthtrans() { }\n",
    "float Snowdepthtrans::getP_Pns() {return this-> P_Pns; }\n",
    "void Snowdepthtrans::setP_Pns(float _P_Pns) { this->P_Pns = _P_Pns; }\n",
    "void Snowdepthtrans::Calculate_Model(SnowState& s, SnowState& s1, SnowRate& r, SnowAuxiliary& a)\n",
    "{\n",
    "    //- Name: SnowDepthTrans -Version: 1.0, -Time step: 1\n",
    "    //- Description:\n",
    "    //            * Title: snow cover depth conversion\n",
    "    //            * Author: STICS\n",
    "    //            * Reference: -\n",
    "    //            * Institution: INRA\n",
    "    //            * Abstract: -\n",
    "    //- inputs:\n",
    "    //            * name: Sdepth\n",
    "    //                          ** description : snow cover depth Calculation\n",
    "    //                          ** inputtype : variable\n",
    "    //                          ** variablecategory : state\n",
    "    //                          ** datatype : DOUBLE\n",
    "    //                          ** default : 0.0\n",
    "    //                          ** min : 0.0\n",
    "    //                          ** max : 500.0\n",
    "    //                          ** unit : m\n",
    "    //                          ** uri : \n",
    "    //            * name: P_Pns\n",
    "    //                          ** description : density of the new snow\n",
    "    //                          ** inputtype : parameter\n",
    "    //                          ** parametercategory : constant\n",
    "    //                          ** datatype : DOUBLE\n",
    "    //                          ** default : 0.0\n",
    "    //                          ** min : \n",
    "    //                          ** max : \n",
    "    //                          ** unit : kg m-3\n",
    "    //                          ** uri : \n",
    "    //- outputs:\n",
    "    //            * name: Sdepth_cm\n",
    "    //                          ** description : snow cover depth in cm\n",
    "    //                          ** variablecategory : state\n",
    "    //                          ** datatype : DOUBLE\n",
    "    //                          ** min : 0.0\n",
    "    //                          ** max : 500.0\n",
    "    //                          ** unit : cm\n",
    "    //                          ** uri : \n",
    "    float Sdepth = s.getSdepth();\n",
    "    float Sdepth_cm;\n",
    "    Sdepth_cm = Sdepth * P_Pns;\n",
    "    s.setSdepth_cm(Sdepth_cm);\n",
    "}"
   ]
  },
  {
   "cell_type": "code",
   "execution_count": null,
   "metadata": {},
   "outputs": [],
   "source": [
    "class Test\n",
    "{\n",
    "    SnowState s = new SnowState();\n",
    "    SnowState s1 = new SnowState();\n",
    "    SnowRate r = new SnowRate();\n",
    "    SnowAuxiliary a = new SnowAuxiliary();\n",
    "    Snowdepthtrans mod = new Snowdepthtrans();\n",
    "    //check snow model);\n",
    "    //test_snow1\n",
    "\n",
    "    public void test_snow1()\n",
    "    {\n",
    "        mod.P_Pns = 100.0D;\n",
    "        s.Sdepth = 0.279D;\n",
    "        mod.Calculate_snowdepthtrans(s,s1, r, a);\n",
    "        //Sdepth_cm: 45.6;\n",
    "        Console.WriteLine(\"Sdepth_cm estimated :\");\n",
    "        Console.WriteLine(s.Sdepth_cm);\n",
    "    }\n",
    "}\n",
    "Test t = new Test();\n",
    "t.test_snow1();\n"
   ]
  }
 ],
 "metadata": {},
 "nbformat": 4,
 "nbformat_minor": 2
}
