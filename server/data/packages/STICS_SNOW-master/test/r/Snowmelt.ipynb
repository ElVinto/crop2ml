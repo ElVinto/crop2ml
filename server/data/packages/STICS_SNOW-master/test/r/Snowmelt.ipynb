{
 "cells": [
  {
   "cell_type": "markdown",
   "metadata": {},
   "source": [
    "# Automatic generation of Notebook using PyCropML\n",
    "    This notebook implements a crop model."
   ]
  },
  {
   "cell_type": "markdown",
   "metadata": {},
   "source": [
    "### Model Snowmelt"
   ]
  },
  {
   "cell_type": "code",
   "execution_count": null,
   "metadata": {},
   "outputs": [],
   "source": [
    "model_snowmelt <- function (ps = 0.0,\n",
    "         M = 0.0){\n",
    "    #'- Name: SnowMelt -Version: 1.0, -Time step: 1\n",
    "    #'- Description:\n",
    "    #'            * Title: Snow Melt\n",
    "    #'            * Author: STICS\n",
    "    #'            * Reference: -\n",
    "    #'            * Institution: INRA\n",
    "    #'            * Abstract: -\n",
    "    #'- inputs:\n",
    "    #'            * name: ps\n",
    "    #'                          ** description : density of snow cover\n",
    "    #'                          ** inputtype : variable\n",
    "    #'                          ** variablecategory : state\n",
    "    #'                          ** datatype : DOUBLE\n",
    "    #'                          ** default : 0.0\n",
    "    #'                          ** min : 0.0\n",
    "    #'                          ** max : 5000.0\n",
    "    #'                          ** unit : mm\n",
    "    #'                          ** uri : \n",
    "    #'            * name: M\n",
    "    #'                          ** description : snow in the process of melting\n",
    "    #'                          ** inputtype : variable\n",
    "    #'                          ** variablecategory : state\n",
    "    #'                          ** datatype : DOUBLE\n",
    "    #'                          ** default : 0.0\n",
    "    #'                          ** min : \n",
    "    #'                          ** max : \n",
    "    #'                          ** unit : mm\n",
    "    #'                          ** uri : \n",
    "    #'- outputs:\n",
    "    #'            * name: Snowmelt\n",
    "    #'                          ** description : Snow melt\n",
    "    #'                          ** variablecategory : state\n",
    "    #'                          ** datatype : DOUBLE\n",
    "    #'                          ** min : 0.0\n",
    "    #'                          ** max : 500.0\n",
    "    #'                          ** unit : mm\n",
    "    #'                          ** uri : \n",
    "    Snowmelt <- 0.0\n",
    "    if (ps > 1e-8)\n",
    "    {\n",
    "        Snowmelt <- M / ps\n",
    "    }\n",
    "    return (list('Snowmelt' = Snowmelt))\n",
    "}"
   ]
  },
  {
   "cell_type": "code",
   "execution_count": null,
   "metadata": {},
   "outputs": [],
   "source": [
    "library(assertthat)\n",
    "\n",
    "\n",
    "test_test_snow1<-function(){\n",
    "    params= model_snowmelt(\n",
    "        M = 91.2,\n",
    "        ps = 91.2\n",
    "        )\n",
    "    Snowmelt_estimated = params$Snowmelt\n",
    "    Snowmelt_computed = 45.6\n",
    "    assert_that(all.equal(Snowmelt_estimated, Snowmelt_computed, scale=1, tol=0.2)==TRUE)\n",
    "}\n",
    "test_test_snow1()"
   ]
  }
 ],
 "metadata": {},
 "nbformat": 4,
 "nbformat_minor": 2
}
