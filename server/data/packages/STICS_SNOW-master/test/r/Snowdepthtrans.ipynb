{
 "cells": [
  {
   "cell_type": "markdown",
   "metadata": {},
   "source": [
    "# Automatic generation of Notebook using PyCropML\n",
    "    This notebook implements a crop model."
   ]
  },
  {
   "cell_type": "markdown",
   "metadata": {},
   "source": [
    "### Model Snowdepthtrans"
   ]
  },
  {
   "cell_type": "code",
   "execution_count": null,
   "metadata": {},
   "outputs": [],
   "source": [
    "model_snowdepthtrans <- function (Sdepth = 0.0,\n",
    "         P_Pns = 0.0){\n",
    "    #'- Name: SnowDepthTrans -Version: 1.0, -Time step: 1\n",
    "    #'- Description:\n",
    "    #'            * Title: snow cover depth conversion\n",
    "    #'            * Author: STICS\n",
    "    #'            * Reference: -\n",
    "    #'            * Institution: INRA\n",
    "    #'            * Abstract: -\n",
    "    #'- inputs:\n",
    "    #'            * name: Sdepth\n",
    "    #'                          ** description : snow cover depth Calculation\n",
    "    #'                          ** inputtype : variable\n",
    "    #'                          ** variablecategory : state\n",
    "    #'                          ** datatype : DOUBLE\n",
    "    #'                          ** default : 0.0\n",
    "    #'                          ** min : 0.0\n",
    "    #'                          ** max : 500.0\n",
    "    #'                          ** unit : m\n",
    "    #'                          ** uri : \n",
    "    #'            * name: P_Pns\n",
    "    #'                          ** description : density of the new snow\n",
    "    #'                          ** inputtype : parameter\n",
    "    #'                          ** parametercategory : constant\n",
    "    #'                          ** datatype : DOUBLE\n",
    "    #'                          ** default : 0.0\n",
    "    #'                          ** min : \n",
    "    #'                          ** max : \n",
    "    #'                          ** unit : kg m-3\n",
    "    #'                          ** uri : \n",
    "    #'- outputs:\n",
    "    #'            * name: Sdepth_cm\n",
    "    #'                          ** description : snow cover depth in cm\n",
    "    #'                          ** variablecategory : state\n",
    "    #'                          ** datatype : DOUBLE\n",
    "    #'                          ** min : 0.0\n",
    "    #'                          ** max : 500.0\n",
    "    #'                          ** unit : cm\n",
    "    #'                          ** uri : \n",
    "    Sdepth_cm <- Sdepth * P_Pns\n",
    "    return (list('Sdepth_cm' = Sdepth_cm))\n",
    "}"
   ]
  },
  {
   "cell_type": "code",
   "execution_count": null,
   "metadata": {},
   "outputs": [],
   "source": [
    "library(assertthat)\n",
    "\n",
    "\n",
    "test_test_snow1<-function(){\n",
    "    params= model_snowdepthtrans(\n",
    "        P_Pns = 100.0,\n",
    "        Sdepth = 0.279\n",
    "        )\n",
    "    Sdepth_cm_estimated = params$Sdepth_cm\n",
    "    Sdepth_cm_computed = 45.6\n",
    "    assert_that(all.equal(Sdepth_cm_estimated, Sdepth_cm_computed, scale=1, tol=0.2)==TRUE)\n",
    "}\n",
    "test_test_snow1()"
   ]
  }
 ],
 "metadata": {},
 "nbformat": 4,
 "nbformat_minor": 2
}
