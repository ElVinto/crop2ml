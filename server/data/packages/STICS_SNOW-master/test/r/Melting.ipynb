{
 "cells": [
  {
   "cell_type": "markdown",
   "metadata": {},
   "source": [
    "# Automatic generation of Notebook using PyCropML\n",
    "    This notebook implements a crop model."
   ]
  },
  {
   "cell_type": "markdown",
   "metadata": {},
   "source": [
    "### Model Melting"
   ]
  },
  {
   "cell_type": "code",
   "execution_count": 1,
   "metadata": {},
   "outputs": [],
   "source": [
    "model_melting <- function (jul = 0,\n",
    "         P_Tmf = 0.5,\n",
    "         P_DKmax = 0.0,\n",
    "         P_Kmin = 0.0,\n",
    "         tavg = 0.0){\n",
    "    #'- Name: Melting -Version: 1.0, -Time step: 1\n",
    "    #'- Description:\n",
    "    #'            * Title: snow in the process of melting\n",
    "    #'            * Author: STICS\n",
    "    #'            * Reference: -\n",
    "    #'            * Institution: INRA\n",
    "    #'            * Abstract: -\n",
    "    #'- inputs:\n",
    "    #'            * name: jul\n",
    "    #'                          ** description : current day of year for the calculation\n",
    "    #'                          ** inputtype : variable\n",
    "    #'                          ** variablecategory : auxiliary\n",
    "    #'                          ** datatype : INT\n",
    "    #'                          ** default : 0\n",
    "    #'                          ** min : 0\n",
    "    #'                          ** max : 366\n",
    "    #'                          ** unit : d\n",
    "    #'                          ** uri : \n",
    "    #'            * name: P_Tmf\n",
    "    #'                          ** description : threshold temperature for snow melting \n",
    "    #'                          ** inputtype : parameter\n",
    "    #'                          ** parametercategory : constant\n",
    "    #'                          ** datatype : DOUBLE\n",
    "    #'                          ** default : 0.5\n",
    "    #'                          ** min : 0.0\n",
    "    #'                          ** max : 1.0\n",
    "    #'                          ** unit : °C\n",
    "    #'                          ** uri : \n",
    "    #'            * name: P_DKmax\n",
    "    #'                          ** description : difference between the maximum and the minimum melting rates\n",
    "    #'                          ** inputtype : parameter\n",
    "    #'                          ** parametercategory : constant\n",
    "    #'                          ** datatype : DOUBLE\n",
    "    #'                          ** default : 0.0\n",
    "    #'                          ** min : 0.0\n",
    "    #'                          ** max : 5000.0\n",
    "    #'                          ** unit : mm °C-1 d-1\n",
    "    #'                          ** uri : \n",
    "    #'            * name: P_Kmin\n",
    "    #'                          ** description : minimum melting rate on 21 December\n",
    "    #'                          ** inputtype : parameter\n",
    "    #'                          ** parametercategory : constant\n",
    "    #'                          ** datatype : DOUBLE\n",
    "    #'                          ** default : 0.0\n",
    "    #'                          ** min : 0.0\n",
    "    #'                          ** max : 5000.0\n",
    "    #'                          ** unit : mm °C-1 d-1\n",
    "    #'                          ** uri : \n",
    "    #'            * name: tavg\n",
    "    #'                          ** description : average temperature\n",
    "    #'                          ** inputtype : variable\n",
    "    #'                          ** variablecategory : auxiliary\n",
    "    #'                          ** datatype : DOUBLE\n",
    "    #'                          ** default : 0.0\n",
    "    #'                          ** min : 0.0\n",
    "    #'                          ** max : 100.0\n",
    "    #'                          ** unit : °C\n",
    "    #'                          ** uri : \n",
    "    #'- outputs:\n",
    "    #'            * name: M\n",
    "    #'                          ** description : snow in the process of melting\n",
    "    #'                          ** variablecategory : state\n",
    "    #'                          ** datatype : DOUBLE\n",
    "    #'                          ** min : 0.0\n",
    "    #'                          ** max : 500.0\n",
    "    #'                          ** unit : mm d-1\n",
    "    #'                          ** uri : \n",
    "    M <- 0.0\n",
    "    K <- P_DKmax / 2.0 * -sin((2.0 * pi * as.double(jul) / 366.0 + (9.0 / 16.0 * pi))) + P_Kmin + (P_DKmax / 2.0)\n",
    "    if (tavg > P_Tmf)\n",
    "    {\n",
    "        M <- K * (tavg - P_Tmf)\n",
    "    }\n",
    "    return (list('M' = M))\n",
    "}"
   ]
  },
  {
   "cell_type": "code",
   "execution_count": 2,
   "metadata": {},
   "outputs": [
    {
     "name": "stderr",
     "output_type": "stream",
     "text": [
      "Warning message:\n",
      "\"package 'assertthat' was built under R version 3.5.3\""
     ]
    },
    {
     "ename": "ERROR",
     "evalue": "Error: all.equal(M_estimated, M_computed, scale = 1, tol = 0.2) not equal to TRUE\n",
     "output_type": "error",
     "traceback": [
      "Error: all.equal(M_estimated, M_computed, scale = 1, tol = 0.2) not equal to TRUE\nTraceback:\n",
      "1. test_test_snow1()",
      "2. assert_that(all.equal(M_estimated, M_computed, scale = 1, tol = 0.2) == \n .     TRUE)   # at line 14 of file <text>"
     ]
    }
   ],
   "source": [
    "library(assertthat)\n",
    "\n",
    "\n",
    "test_test_snow1<-function(){\n",
    "    params= model_melting(\n",
    "        P_Tmf = 0.5,\n",
    "        P_DKmax = 1.5,\n",
    "        P_Kmin = 2.0,\n",
    "        tavg = -0.5,\n",
    "        jul = 1\n",
    "        )\n",
    "    M_estimated = params$M\n",
    "    M_computed = 45.6\n",
    "    assert_that(all.equal(M_estimated, M_computed, scale=1, tol=0.2)==TRUE)\n",
    "}\n",
    "test_test_snow1()"
   ]
  },
  {
   "cell_type": "code",
   "execution_count": 3,
   "metadata": {},
   "outputs": [],
   "source": [
    "    params= model_melting(\n",
    "        P_Tmf = 0.5,\n",
    "        P_DKmax = 1.5,\n",
    "        P_Kmin = 2.0,\n",
    "        tavg = -0.5,\n",
    "        jul = 1\n",
    "        )\n",
    "    M_estimated = params$M"
   ]
  },
  {
   "cell_type": "code",
   "execution_count": 4,
   "metadata": {},
   "outputs": [
    {
     "data": {
      "text/html": [
       "0"
      ],
      "text/latex": [
       "0"
      ],
      "text/markdown": [
       "0"
      ],
      "text/plain": [
       "[1] 0"
      ]
     },
     "metadata": {},
     "output_type": "display_data"
    }
   ],
   "source": [
    "   M_estimated"
   ]
  },
  {
   "cell_type": "code",
   "execution_count": null,
   "metadata": {},
   "outputs": [],
   "source": []
  }
 ],
 "metadata": {
  "kernelspec": {
   "display_name": "R",
   "language": "R",
   "name": "ir"
  },
  "language_info": {
   "codemirror_mode": "r",
   "file_extension": ".r",
   "mimetype": "text/x-r-source",
   "name": "R",
   "pygments_lexer": "r",
   "version": "3.5.0"
  }
 },
 "nbformat": 4,
 "nbformat_minor": 2
}
