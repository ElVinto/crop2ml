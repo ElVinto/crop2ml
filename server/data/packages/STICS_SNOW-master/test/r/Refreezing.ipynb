{
 "cells": [
  {
   "cell_type": "markdown",
   "metadata": {},
   "source": [
    "# Automatic generation of Notebook using PyCropML\n",
    "    This notebook implements a crop model."
   ]
  },
  {
   "cell_type": "markdown",
   "metadata": {},
   "source": [
    "### Model Refreezing"
   ]
  },
  {
   "cell_type": "code",
   "execution_count": null,
   "metadata": {},
   "outputs": [],
   "source": [
    "model_refreezing <- function (tavg = 0.0,\n",
    "         P_Tmf = 0.0,\n",
    "         P_SWrf = 0.0){\n",
    "    #'- Name: Refreezing -Version: 1.0, -Time step: 1\n",
    "    #'- Description:\n",
    "    #'            * Title: snowfall accumulation  calculation\n",
    "    #'            * Author: STICS\n",
    "    #'            * Reference: -\n",
    "    #'            * Institution: INRA\n",
    "    #'            * Abstract: -\n",
    "    #'- inputs:\n",
    "    #'            * name: tavg\n",
    "    #'                          ** description : average temperature\n",
    "    #'                          ** inputtype : variable\n",
    "    #'                          ** variablecategory : auxiliary\n",
    "    #'                          ** datatype : DOUBLE\n",
    "    #'                          ** default : 0.0\n",
    "    #'                          ** min : 0.0\n",
    "    #'                          ** max : 100.0\n",
    "    #'                          ** unit : °C\n",
    "    #'                          ** uri : \n",
    "    #'            * name: P_Tmf\n",
    "    #'                          ** description : threshold temperature for snow melting \n",
    "    #'                          ** inputtype : parameter\n",
    "    #'                          ** parametercategory : constant\n",
    "    #'                          ** datatype : DOUBLE\n",
    "    #'                          ** default : 0.0\n",
    "    #'                          ** min : 0.0\n",
    "    #'                          ** max : 5000.0\n",
    "    #'                          ** unit : °C\n",
    "    #'                          ** uri : \n",
    "    #'            * name: P_SWrf\n",
    "    #'                          ** description : degree-day temperature index for refreezing\n",
    "    #'                          ** inputtype : parameter\n",
    "    #'                          ** parametercategory : constant\n",
    "    #'                          ** datatype : DOUBLE\n",
    "    #'                          ** default : 0.0\n",
    "    #'                          ** min : 0.0\n",
    "    #'                          ** max : 5000.0\n",
    "    #'                          ** unit : mm °C-1 d-1\n",
    "    #'                          ** uri : \n",
    "    #'- outputs:\n",
    "    #'            * name: Mrf\n",
    "    #'                          ** description : liquid water in the snow cover in the process of refreezing\n",
    "    #'                          ** variablecategory : state\n",
    "    #'                          ** datatype : DOUBLE\n",
    "    #'                          ** min : 0.0\n",
    "    #'                          ** max : 500.0\n",
    "    #'                          ** unit : mm\n",
    "    #'                          ** uri : \n",
    "    Mrf <- 0.0\n",
    "    if (tavg < P_Tmf)\n",
    "    {\n",
    "        Mrf <- P_SWrf * (P_Tmf - tavg)\n",
    "    }\n",
    "    return (list('Mrf' = Mrf))\n",
    "}"
   ]
  },
  {
   "cell_type": "code",
   "execution_count": null,
   "metadata": {},
   "outputs": [],
   "source": [
    "library(assertthat)\n",
    "\n",
    "\n",
    "test_test_snow1<-function(){\n",
    "    params= model_refreezing(\n",
    "        P_Tmf = 0.5,\n",
    "        P_SWrf = 0.01,\n",
    "        tavg = 0.279\n",
    "        )\n",
    "    Mrf_estimated = params$Mrf\n",
    "    Mrf_computed = 45.6\n",
    "    assert_that(all.equal(Mrf_estimated, Mrf_computed, scale=1, tol=0.2)==TRUE)\n",
    "}\n",
    "test_test_snow1()"
   ]
  }
 ],
 "metadata": {},
 "nbformat": 4,
 "nbformat_minor": 2
}
