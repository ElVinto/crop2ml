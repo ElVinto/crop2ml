{
 "cells": [
  {
   "cell_type": "code",
   "execution_count": 11,
   "metadata": {},
   "outputs": [],
   "source": [
    "include 'C:/Users/midingoy/Documents/THESE/pycropml_pheno/test/Tutorial/snow_pkg/src/f90/Melting.f90'\n",
    "include 'C:/Users/midingoy/Documents/THESE/pycropml_pheno/test/Tutorial/snow_pkg/src/f90/Preciprec.f90'\n",
    "include 'C:/Users/midingoy/Documents/THESE/pycropml_pheno/test/Tutorial/snow_pkg/src/f90/Refreezing.f90'\n",
    "include 'C:/Users/midingoy/Documents/THESE/pycropml_pheno/test/Tutorial/snow_pkg/src/f90/Snowaccumulation.f90'\n",
    "include 'C:/Users/midingoy/Documents/THESE/pycropml_pheno/test/Tutorial/snow_pkg/src/f90/Snowdensity.f90'\n",
    "include 'C:/Users/midingoy/Documents/THESE/pycropml_pheno/test/Tutorial/snow_pkg/src/f90/Snowdepth.f90'\n",
    "include 'C:/Users/midingoy/Documents/THESE/pycropml_pheno/test/Tutorial/snow_pkg/src/f90/Snowdepthtrans.f90'\n",
    "include 'C:/Users/midingoy/Documents/THESE/pycropml_pheno/test/Tutorial/snow_pkg/src/f90/Snowdry.f90'\n",
    "include 'C:/Users/midingoy/Documents/THESE/pycropml_pheno/test/Tutorial/snow_pkg/src/f90/Snowmelt.f90'\n",
    "include 'C:/Users/midingoy/Documents/THESE/pycropml_pheno/test/Tutorial/snow_pkg/src/f90/Snowwet.f90'\n",
    "include 'C:/Users/midingoy/Documents/THESE/pycropml_pheno/test/Tutorial/snow_pkg/src/f90/Tavg.f90'\n",
    "include 'C:/Users/midingoy/Documents/THESE/pycropml_pheno/test/Tutorial/snow_pkg/src/f90/Tempmax.f90'\n",
    "include 'C:/Users/midingoy/Documents/THESE/pycropml_pheno/test/Tutorial/snow_pkg/src/f90/Tempmin.f90'\n",
    "include 'C:/Users/midingoy/Documents/THESE/pycropml_pheno/test/Tutorial/snow_pkg/src/f90/SnowComponent.f90'\n",
    "Program test\n",
    "use Snowmod\n",
    "\n",
    "\n",
    "end Program"
   ]
  },
  {
   "cell_type": "code",
   "execution_count": null,
   "metadata": {},
   "outputs": [],
   "source": []
  }
 ],
 "metadata": {
  "kernelspec": {
   "display_name": "Fortran",
   "language": "Fortran",
   "name": "fortran_spec"
  },
  "language_info": {
   "file_extension": "f90",
   "mimetype": "text/plain",
   "name": "fortran"
  }
 },
 "nbformat": 4,
 "nbformat_minor": 2
}
